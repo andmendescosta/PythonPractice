{
 "cells": [
  {
   "cell_type": "markdown",
   "metadata": {},
   "source": [
    "# Relationship Between Police Calls And Price of M²"
   ]
  },
  {
   "cell_type": "markdown",
   "metadata": {},
   "source": [
    "### 1. Import Packages"
   ]
  },
  {
   "cell_type": "code",
   "execution_count": 46,
   "metadata": {
    "collapsed": true
   },
   "outputs": [],
   "source": [
    "import matplotlib.pyplot as plt\n",
    "import pandas as pd\n",
    "import geopandas as gpd\n",
    "import seaborn as sns\n",
    "import numpy as np\n",
    "from geopandas.tools import sjoin\n",
    "import re\n",
    "import shapely\n",
    "from sklearn.model_selection import train_test_split\n",
    "from sklearn import linear_model\n",
    "from sklearn.metrics import mean_squared_error, r2_score\n",
    "from sklearn.preprocessing import PolynomialFeatures\n",
    "\n",
    "from shapely.geometry import Polygon\n",
    "from shapely.geometry import Point\n",
    "import sys"
   ]
  },
  {
   "cell_type": "markdown",
   "metadata": {},
   "source": [
    "### 2. Graphics"
   ]
  },
  {
   "cell_type": "code",
   "execution_count": 2,
   "metadata": {},
   "outputs": [],
   "source": [
    "%matplotlib inline\n",
    "sns.set()"
   ]
  },
  {
   "cell_type": "markdown",
   "metadata": {},
   "source": [
    "### 3. Read the Data"
   ]
  },
  {
   "cell_type": "code",
   "execution_count": 3,
   "metadata": {
    "collapsed": true
   },
   "outputs": [],
   "source": [
    "regions = pd.read_csv(\"./data/regions.csv\", dtype={\"number\" : \"str\"},sep=\",\")\n",
    "calls = pd.read_csv(\"./data/policecalls.csv\", dtype={\"number\" : \"str\"},sep=\",\")"
   ]
  },
  {
   "cell_type": "markdown",
   "metadata": {},
   "source": [
    "### 4. Pre-processing"
   ]
  },
  {
   "cell_type": "code",
   "execution_count": 4,
   "metadata": {
    "collapsed": true
   },
   "outputs": [],
   "source": [
    "calls[\"lat\"] = calls.lat.apply(pd.to_numeric, args=('coerce',))\n",
    "calls[\"lng\"] = calls.lng.apply(pd.to_numeric, args=('coerce',))"
   ]
  },
  {
   "cell_type": "code",
   "execution_count": 5,
   "metadata": {},
   "outputs": [
    {
     "name": "stderr",
     "output_type": "stream",
     "text": [
      "C:\\ProgramData\\Anaconda3\\lib\\site-packages\\ipykernel_launcher.py:7: SettingWithCopyWarning: \n",
      "A value is trying to be set on a copy of a slice from a DataFrame\n",
      "\n",
      "See the caveats in the documentation: http://pandas.pydata.org/pandas-docs/stable/indexing.html#indexing-view-versus-copy\n",
      "  import sys\n"
     ]
    }
   ],
   "source": [
    "for num in range(0, len(regions)):\n",
    "    data = regions.THE_GEOM[num].replace('POLYGON ((', '').replace('))', '').strip()\n",
    "    res = []\n",
    "    for rec in data.split(', '):\n",
    "        res.append(tuple(float(val) for val in rec.split()))\n",
    "    poly = Polygon(res)\n",
    "    regions[\"THE_GEOM\"][num] = poly\n"
   ]
  },
  {
   "cell_type": "code",
   "execution_count": 6,
   "metadata": {},
   "outputs": [],
   "source": [
    "calls[\"geometry\"] = calls.apply(lambda z: Point(z.lng, z.lat), axis=1)\n",
    "regions[\"geometry\"] = gpd.GeoSeries(regions[\"THE_GEOM\"])\n",
    "calls_gdf = gpd.GeoDataFrame(calls)\n",
    "regions_gdf = gpd.GeoDataFrame(regions)\n",
    "calls_gdf.crs\n",
    "regions_gdf.crs\n",
    "calls_gdf.crs = {\"init\": \"epsg:4326\"}\n",
    "regions_gdf.crs = {\"init\": \"epsg:4326\"}\n",
    "calls_gdf = calls_gdf[calls_gdf.is_valid == True]"
   ]
  },
  {
   "cell_type": "markdown",
   "metadata": {},
   "source": [
    "### 5. Columns Of Interest"
   ]
  },
  {
   "cell_type": "code",
   "execution_count": 7,
   "metadata": {},
   "outputs": [],
   "source": [
    "columns_of_interest = [\"NOME\", \"VAL_M2_RES\", \"AREA\", \"geometry\"]\n",
    "regions_gdf = regions_gdf[columns_of_interest]\n",
    "regions_gdf.columns = [\"BAIRRO\", \"VAL_M2_RES\", \"AREA\", \"geometry\"]\n",
    "columns_of_interest = [\"date\", \"geometry\"]\n",
    "calls_gdf = calls_gdf[columns_of_interest]\n",
    "calls_gdf.columns = [\"DATA\", \"geometry\"]"
   ]
  },
  {
   "cell_type": "markdown",
   "metadata": {},
   "source": [
    "### 6. Visualize Dada"
   ]
  },
  {
   "cell_type": "code",
   "execution_count": 8,
   "metadata": {
    "scrolled": true
   },
   "outputs": [
    {
     "data": {
      "text/html": [
       "<div>\n",
       "<style>\n",
       "    .dataframe thead tr:only-child th {\n",
       "        text-align: right;\n",
       "    }\n",
       "\n",
       "    .dataframe thead th {\n",
       "        text-align: left;\n",
       "    }\n",
       "\n",
       "    .dataframe tbody tr th {\n",
       "        vertical-align: top;\n",
       "    }\n",
       "</style>\n",
       "<table border=\"1\" class=\"dataframe\">\n",
       "  <thead>\n",
       "    <tr style=\"text-align: right;\">\n",
       "      <th></th>\n",
       "      <th>DATA</th>\n",
       "      <th>geometry</th>\n",
       "    </tr>\n",
       "  </thead>\n",
       "  <tbody>\n",
       "    <tr>\n",
       "      <th>0</th>\n",
       "      <td>2005-01-01</td>\n",
       "      <td>POINT (-38.5554 -3.73784)</td>\n",
       "    </tr>\n",
       "  </tbody>\n",
       "</table>\n",
       "</div>"
      ],
      "text/plain": [
       "         DATA                   geometry\n",
       "0  2005-01-01  POINT (-38.5554 -3.73784)"
      ]
     },
     "execution_count": 8,
     "metadata": {},
     "output_type": "execute_result"
    }
   ],
   "source": [
    "calls_gdf.head(1)"
   ]
  },
  {
   "cell_type": "code",
   "execution_count": 9,
   "metadata": {},
   "outputs": [
    {
     "data": {
      "text/html": [
       "<div>\n",
       "<style>\n",
       "    .dataframe thead tr:only-child th {\n",
       "        text-align: right;\n",
       "    }\n",
       "\n",
       "    .dataframe thead th {\n",
       "        text-align: left;\n",
       "    }\n",
       "\n",
       "    .dataframe tbody tr th {\n",
       "        vertical-align: top;\n",
       "    }\n",
       "</style>\n",
       "<table border=\"1\" class=\"dataframe\">\n",
       "  <thead>\n",
       "    <tr style=\"text-align: right;\">\n",
       "      <th></th>\n",
       "      <th>BAIRRO</th>\n",
       "      <th>VAL_M2_RES</th>\n",
       "      <th>AREA</th>\n",
       "      <th>geometry</th>\n",
       "    </tr>\n",
       "  </thead>\n",
       "  <tbody>\n",
       "    <tr>\n",
       "      <th>0</th>\n",
       "      <td>PASSARE</td>\n",
       "      <td>2424.77</td>\n",
       "      <td>7167306.57</td>\n",
       "      <td>POLYGON ((-38.53981906785994 -3.79553710684326...</td>\n",
       "    </tr>\n",
       "  </tbody>\n",
       "</table>\n",
       "</div>"
      ],
      "text/plain": [
       "    BAIRRO  VAL_M2_RES        AREA  \\\n",
       "0  PASSARE     2424.77  7167306.57   \n",
       "\n",
       "                                            geometry  \n",
       "0  POLYGON ((-38.53981906785994 -3.79553710684326...  "
      ]
     },
     "execution_count": 9,
     "metadata": {},
     "output_type": "execute_result"
    }
   ],
   "source": [
    "regions_gdf.head(1)"
   ]
  },
  {
   "cell_type": "markdown",
   "metadata": {
    "collapsed": true
   },
   "source": [
    "### 7. Merge Data Frames"
   ]
  },
  {
   "cell_type": "code",
   "execution_count": 10,
   "metadata": {
    "collapsed": true
   },
   "outputs": [],
   "source": [
    "merged_gdf = gpd.sjoin(calls_gdf, regions_gdf, how=\"inner\", op=\"intersects\")"
   ]
  },
  {
   "cell_type": "markdown",
   "metadata": {},
   "source": [
    "### 8. Visualize Merged Data Frame"
   ]
  },
  {
   "cell_type": "code",
   "execution_count": 11,
   "metadata": {},
   "outputs": [
    {
     "data": {
      "text/html": [
       "<div>\n",
       "<style>\n",
       "    .dataframe thead tr:only-child th {\n",
       "        text-align: right;\n",
       "    }\n",
       "\n",
       "    .dataframe thead th {\n",
       "        text-align: left;\n",
       "    }\n",
       "\n",
       "    .dataframe tbody tr th {\n",
       "        vertical-align: top;\n",
       "    }\n",
       "</style>\n",
       "<table border=\"1\" class=\"dataframe\">\n",
       "  <thead>\n",
       "    <tr style=\"text-align: right;\">\n",
       "      <th></th>\n",
       "      <th>DATA</th>\n",
       "      <th>geometry</th>\n",
       "      <th>index_right</th>\n",
       "      <th>BAIRRO</th>\n",
       "      <th>VAL_M2_RES</th>\n",
       "      <th>AREA</th>\n",
       "    </tr>\n",
       "  </thead>\n",
       "  <tbody>\n",
       "    <tr>\n",
       "      <th>0</th>\n",
       "      <td>2005-01-01</td>\n",
       "      <td>POINT (-38.5554 -3.73784)</td>\n",
       "      <td>116</td>\n",
       "      <td>PARQUELANDIA</td>\n",
       "      <td>2509.18</td>\n",
       "      <td>1253555.18</td>\n",
       "    </tr>\n",
       "    <tr>\n",
       "      <th>211</th>\n",
       "      <td>2005-01-04</td>\n",
       "      <td>POINT (-38.5592 -3.73552)</td>\n",
       "      <td>116</td>\n",
       "      <td>PARQUELANDIA</td>\n",
       "      <td>2509.18</td>\n",
       "      <td>1253555.18</td>\n",
       "    </tr>\n",
       "    <tr>\n",
       "      <th>303</th>\n",
       "      <td>2005-01-05</td>\n",
       "      <td>POINT (-38.5553 -3.73816)</td>\n",
       "      <td>116</td>\n",
       "      <td>PARQUELANDIA</td>\n",
       "      <td>2509.18</td>\n",
       "      <td>1253555.18</td>\n",
       "    </tr>\n",
       "    <tr>\n",
       "      <th>444</th>\n",
       "      <td>2005-01-07</td>\n",
       "      <td>POINT (-38.567 -3.73716)</td>\n",
       "      <td>116</td>\n",
       "      <td>PARQUELANDIA</td>\n",
       "      <td>2509.18</td>\n",
       "      <td>1253555.18</td>\n",
       "    </tr>\n",
       "    <tr>\n",
       "      <th>527</th>\n",
       "      <td>2005-01-08</td>\n",
       "      <td>POINT (-38.5662 -3.74159)</td>\n",
       "      <td>116</td>\n",
       "      <td>PARQUELANDIA</td>\n",
       "      <td>2509.18</td>\n",
       "      <td>1253555.18</td>\n",
       "    </tr>\n",
       "  </tbody>\n",
       "</table>\n",
       "</div>"
      ],
      "text/plain": [
       "           DATA                   geometry  index_right        BAIRRO  \\\n",
       "0    2005-01-01  POINT (-38.5554 -3.73784)          116  PARQUELANDIA   \n",
       "211  2005-01-04  POINT (-38.5592 -3.73552)          116  PARQUELANDIA   \n",
       "303  2005-01-05  POINT (-38.5553 -3.73816)          116  PARQUELANDIA   \n",
       "444  2005-01-07   POINT (-38.567 -3.73716)          116  PARQUELANDIA   \n",
       "527  2005-01-08  POINT (-38.5662 -3.74159)          116  PARQUELANDIA   \n",
       "\n",
       "     VAL_M2_RES        AREA  \n",
       "0       2509.18  1253555.18  \n",
       "211     2509.18  1253555.18  \n",
       "303     2509.18  1253555.18  \n",
       "444     2509.18  1253555.18  \n",
       "527     2509.18  1253555.18  "
      ]
     },
     "execution_count": 11,
     "metadata": {},
     "output_type": "execute_result"
    }
   ],
   "source": [
    "merged_gdf.head()"
   ]
  },
  {
   "cell_type": "markdown",
   "metadata": {},
   "source": [
    "### 9. Group Data Frame"
   ]
  },
  {
   "cell_type": "code",
   "execution_count": 12,
   "metadata": {},
   "outputs": [],
   "source": [
    "grouped_gdf = merged_gdf.groupby([\"BAIRRO\"]).agg({'geometry': \"count\",\n",
    "                                    'VAL_M2_RES': \"mean\",\n",
    "                                    'AREA': \"mean\"})"
   ]
  },
  {
   "cell_type": "code",
   "execution_count": 13,
   "metadata": {
    "collapsed": true
   },
   "outputs": [],
   "source": [
    "grouped_gdf.columns = [\"NUM_CALLS\", \"VAL_M2_RES\", \"AREA\"]"
   ]
  },
  {
   "cell_type": "code",
   "execution_count": 14,
   "metadata": {},
   "outputs": [
    {
     "data": {
      "text/html": [
       "<div>\n",
       "<style>\n",
       "    .dataframe thead tr:only-child th {\n",
       "        text-align: right;\n",
       "    }\n",
       "\n",
       "    .dataframe thead th {\n",
       "        text-align: left;\n",
       "    }\n",
       "\n",
       "    .dataframe tbody tr th {\n",
       "        vertical-align: top;\n",
       "    }\n",
       "</style>\n",
       "<table border=\"1\" class=\"dataframe\">\n",
       "  <thead>\n",
       "    <tr style=\"text-align: right;\">\n",
       "      <th></th>\n",
       "      <th>NUM_CALLS</th>\n",
       "      <th>VAL_M2_RES</th>\n",
       "      <th>AREA</th>\n",
       "    </tr>\n",
       "    <tr>\n",
       "      <th>BAIRRO</th>\n",
       "      <th></th>\n",
       "      <th></th>\n",
       "      <th></th>\n",
       "    </tr>\n",
       "  </thead>\n",
       "  <tbody>\n",
       "    <tr>\n",
       "      <th>AEROLANDIA</th>\n",
       "      <td>651</td>\n",
       "      <td>1886.07</td>\n",
       "      <td>1096167.58</td>\n",
       "    </tr>\n",
       "    <tr>\n",
       "      <th>AEROPORTO</th>\n",
       "      <td>366</td>\n",
       "      <td>2126.39</td>\n",
       "      <td>6126648.09</td>\n",
       "    </tr>\n",
       "    <tr>\n",
       "      <th>ALDEOTA</th>\n",
       "      <td>4135</td>\n",
       "      <td>3193.62</td>\n",
       "      <td>3880855.37</td>\n",
       "    </tr>\n",
       "    <tr>\n",
       "      <th>ALTO DA BALANCA</th>\n",
       "      <td>1210</td>\n",
       "      <td>1784.38</td>\n",
       "      <td>916449.74</td>\n",
       "    </tr>\n",
       "    <tr>\n",
       "      <th>ALVARO WEYNE</th>\n",
       "      <td>1615</td>\n",
       "      <td>1954.28</td>\n",
       "      <td>1427008.93</td>\n",
       "    </tr>\n",
       "  </tbody>\n",
       "</table>\n",
       "</div>"
      ],
      "text/plain": [
       "                 NUM_CALLS  VAL_M2_RES        AREA\n",
       "BAIRRO                                            \n",
       "AEROLANDIA             651     1886.07  1096167.58\n",
       "AEROPORTO              366     2126.39  6126648.09\n",
       "ALDEOTA               4135     3193.62  3880855.37\n",
       "ALTO DA BALANCA       1210     1784.38   916449.74\n",
       "ALVARO WEYNE          1615     1954.28  1427008.93"
      ]
     },
     "execution_count": 14,
     "metadata": {},
     "output_type": "execute_result"
    }
   ],
   "source": [
    "grouped_gdf.head()"
   ]
  },
  {
   "cell_type": "code",
   "execution_count": 15,
   "metadata": {},
   "outputs": [],
   "source": [
    "grouped_gdf[\"CALLS_BY_M2\"] = grouped_gdf[\"NUM_CALLS\"] / grouped_gdf[\"AREA\"]"
   ]
  },
  {
   "cell_type": "code",
   "execution_count": 16,
   "metadata": {},
   "outputs": [
    {
     "data": {
      "text/html": [
       "<div>\n",
       "<style>\n",
       "    .dataframe thead tr:only-child th {\n",
       "        text-align: right;\n",
       "    }\n",
       "\n",
       "    .dataframe thead th {\n",
       "        text-align: left;\n",
       "    }\n",
       "\n",
       "    .dataframe tbody tr th {\n",
       "        vertical-align: top;\n",
       "    }\n",
       "</style>\n",
       "<table border=\"1\" class=\"dataframe\">\n",
       "  <thead>\n",
       "    <tr style=\"text-align: right;\">\n",
       "      <th></th>\n",
       "      <th>NUM_CALLS</th>\n",
       "      <th>VAL_M2_RES</th>\n",
       "      <th>AREA</th>\n",
       "      <th>CALLS_BY_M2</th>\n",
       "    </tr>\n",
       "    <tr>\n",
       "      <th>BAIRRO</th>\n",
       "      <th></th>\n",
       "      <th></th>\n",
       "      <th></th>\n",
       "      <th></th>\n",
       "    </tr>\n",
       "  </thead>\n",
       "  <tbody>\n",
       "    <tr>\n",
       "      <th>AEROLANDIA</th>\n",
       "      <td>651</td>\n",
       "      <td>1886.07</td>\n",
       "      <td>1096167.58</td>\n",
       "      <td>0.000594</td>\n",
       "    </tr>\n",
       "    <tr>\n",
       "      <th>AEROPORTO</th>\n",
       "      <td>366</td>\n",
       "      <td>2126.39</td>\n",
       "      <td>6126648.09</td>\n",
       "      <td>0.000060</td>\n",
       "    </tr>\n",
       "    <tr>\n",
       "      <th>ALDEOTA</th>\n",
       "      <td>4135</td>\n",
       "      <td>3193.62</td>\n",
       "      <td>3880855.37</td>\n",
       "      <td>0.001065</td>\n",
       "    </tr>\n",
       "    <tr>\n",
       "      <th>ALTO DA BALANCA</th>\n",
       "      <td>1210</td>\n",
       "      <td>1784.38</td>\n",
       "      <td>916449.74</td>\n",
       "      <td>0.001320</td>\n",
       "    </tr>\n",
       "    <tr>\n",
       "      <th>ALVARO WEYNE</th>\n",
       "      <td>1615</td>\n",
       "      <td>1954.28</td>\n",
       "      <td>1427008.93</td>\n",
       "      <td>0.001132</td>\n",
       "    </tr>\n",
       "  </tbody>\n",
       "</table>\n",
       "</div>"
      ],
      "text/plain": [
       "                 NUM_CALLS  VAL_M2_RES        AREA  CALLS_BY_M2\n",
       "BAIRRO                                                         \n",
       "AEROLANDIA             651     1886.07  1096167.58     0.000594\n",
       "AEROPORTO              366     2126.39  6126648.09     0.000060\n",
       "ALDEOTA               4135     3193.62  3880855.37     0.001065\n",
       "ALTO DA BALANCA       1210     1784.38   916449.74     0.001320\n",
       "ALVARO WEYNE          1615     1954.28  1427008.93     0.001132"
      ]
     },
     "execution_count": 16,
     "metadata": {},
     "output_type": "execute_result"
    }
   ],
   "source": [
    "grouped_gdf.head()"
   ]
  },
  {
   "cell_type": "markdown",
   "metadata": {},
   "source": [
    "### 10. Visualize the new dataset"
   ]
  },
  {
   "cell_type": "code",
   "execution_count": 18,
   "metadata": {},
   "outputs": [
    {
     "data": {
      "image/png": "[encoded data removed]",
      "text/plain": [
       "<matplotlib.figure.Figure at 0x13c905f8>"
      ]
     },
     "metadata": {},
     "output_type": "display_data"
    }
   ],
   "source": [
    "grouped_gdf.plot(kind = \"scatter\", \n",
    "                  x = \"NUM_CALLS\", y = \"VAL_M2_RES\", \n",
    "                  title = \"Calls By M2 x VAL M2\")\n",
    "plt.show()"
   ]
  },
  {
   "cell_type": "code",
   "execution_count": 22,
   "metadata": {},
   "outputs": [],
   "source": [
    "X = np.c_[grouped_gdf[\"NUM_CALLS\"]]\n",
    "y = np.c_[grouped_gdf[\"VAL_M2_RES\"]]"
   ]
  },
  {
   "cell_type": "code",
   "execution_count": 25,
   "metadata": {},
   "outputs": [],
   "source": [
    "X_train, X_test, y_train, y_test = train_test_split(X, y, \n",
    "                                                    test_size=0.2, \n",
    "                                                    random_state=1)"
   ]
  },
  {
   "cell_type": "code",
   "execution_count": 28,
   "metadata": {},
   "outputs": [],
   "source": [
    "lr_model = linear_model.LinearRegression()"
   ]
  },
  {
   "cell_type": "code",
   "execution_count": 29,
   "metadata": {},
   "outputs": [
    {
     "data": {
      "text/plain": [
       "LinearRegression(copy_X=True, fit_intercept=True, n_jobs=1, normalize=False)"
      ]
     },
     "execution_count": 29,
     "metadata": {},
     "output_type": "execute_result"
    }
   ],
   "source": [
    "# train the model\n",
    "lr_model.fit(X_train, y_train)"
   ]
  },
  {
   "cell_type": "code",
   "execution_count": 30,
   "metadata": {
    "collapsed": true
   },
   "outputs": [],
   "source": [
    "y_train_pred = lr_model.predict(X_train)"
   ]
  },
  {
   "cell_type": "code",
   "execution_count": 33,
   "metadata": {},
   "outputs": [
    {
     "data": {
      "text/plain": [
       "367330.90654333576"
      ]
     },
     "execution_count": 33,
     "metadata": {},
     "output_type": "execute_result"
    }
   ],
   "source": [
    "mse_train = mean_squared_error(y_train, y_train_pred)\n",
    "mse_train"
   ]
  },
  {
   "cell_type": "code",
   "execution_count": 34,
   "metadata": {},
   "outputs": [
    {
     "data": {
      "text/plain": [
       "0.015386030158232367"
      ]
     },
     "execution_count": 34,
     "metadata": {},
     "output_type": "execute_result"
    }
   ],
   "source": [
    "r2_train = r2_score(y_train, y_train_pred)\n",
    "r2_train"
   ]
  },
  {
   "cell_type": "code",
   "execution_count": 35,
   "metadata": {},
   "outputs": [
    {
     "name": "stdout",
     "output_type": "stream",
     "text": [
      "Mean Squared Error = 367330.91\n"
     ]
    }
   ],
   "source": [
    "print(\"Mean Squared Error = %.2f\" % mse_train)"
   ]
  },
  {
   "cell_type": "code",
   "execution_count": 36,
   "metadata": {},
   "outputs": [
    {
     "name": "stdout",
     "output_type": "stream",
     "text": [
      "Variance score = 0.02\n"
     ]
    }
   ],
   "source": [
    "print(\"Variance score = %.2f\" % r2_train)"
   ]
  },
  {
   "cell_type": "code",
   "execution_count": 37,
   "metadata": {},
   "outputs": [
    {
     "data": {
      "image/png": "[encoded data removed]",
      "text/plain": [
       "<matplotlib.figure.Figure at 0x10d1a748>"
      ]
     },
     "metadata": {},
     "output_type": "display_data"
    }
   ],
   "source": [
    "plt.scatter(X_train, y_train, color = \"green\")\n",
    "plt.plot(X_train, y_train_pred, color = \"blue\", linewidth = 1)\n",
    "plt.title(\"Fitting a linear model to the training set\")\n",
    "plt.xlabel(\"Num Calls\")\n",
    "plt.ylabel(\"Val M²\")\n",
    "plt.show()"
   ]
  },
  {
   "cell_type": "code",
   "execution_count": 61,
   "metadata": {},
   "outputs": [],
   "source": [
    "polyf = PolynomialFeatures(10) # of second order, quadratic\n",
    "X_train_f = polyf.fit_transform(X_train)"
   ]
  },
  {
   "cell_type": "code",
   "execution_count": 62,
   "metadata": {},
   "outputs": [
    {
     "data": {
      "text/plain": [
       "LinearRegression(copy_X=True, fit_intercept=True, n_jobs=1, normalize=False)"
      ]
     },
     "execution_count": 62,
     "metadata": {},
     "output_type": "execute_result"
    }
   ],
   "source": [
    "lrf_model = linear_model.LinearRegression()\n",
    "lrf_model.fit(X_train_f, y_train)"
   ]
  },
  {
   "cell_type": "code",
   "execution_count": 63,
   "metadata": {
    "collapsed": true
   },
   "outputs": [],
   "source": [
    "y_train_f_pred = lrf_model.predict(X_train_f)"
   ]
  },
  {
   "cell_type": "code",
   "execution_count": 64,
   "metadata": {},
   "outputs": [
    {
     "data": {
      "text/plain": [
       "366714.44142234465"
      ]
     },
     "execution_count": 64,
     "metadata": {},
     "output_type": "execute_result"
    }
   ],
   "source": [
    "mse_f_train = mean_squared_error(y_train, y_train_f_pred)\n",
    "mse_f_train"
   ]
  },
  {
   "cell_type": "code",
   "execution_count": 65,
   "metadata": {},
   "outputs": [
    {
     "data": {
      "text/plain": [
       "0.017038437182078647"
      ]
     },
     "execution_count": 65,
     "metadata": {},
     "output_type": "execute_result"
    }
   ],
   "source": [
    "r2_f_train = r2_score(y_train, y_train_f_pred)\n",
    "r2_f_train"
   ]
  },
  {
   "cell_type": "code",
   "execution_count": 66,
   "metadata": {},
   "outputs": [
    {
     "data": {
      "image/png": "[encoded data removed]",
      "text/plain": [
       "<matplotlib.figure.Figure at 0x1122d4a8>"
      ]
     },
     "metadata": {},
     "output_type": "display_data"
    }
   ],
   "source": [
    "plt.scatter(X_train, y_train, color = \"green\")\n",
    "plt.scatter(X_train_f[:,1], y_train_f_pred, color = \"blue\")\n",
    "plt.title(\"Fitting a Linear Model with Polynomial Features to the Training Set\")\n",
    "plt.xlabel(\"Num Calls\")\n",
    "plt.ylabel(\"Value M²\")\n",
    "plt.show()"
   ]
  },
  {
   "cell_type": "code",
   "execution_count": null,
   "metadata": {
    "collapsed": true
   },
   "outputs": [],
   "source": []
  }
 ],
 "metadata": {
  "kernelspec": {
   "display_name": "Python 3",
   "language": "python",
   "name": "python3"
  },
  "language_info": {
   "codemirror_mode": {
    "name": "ipython",
    "version": 3
   },
   "file_extension": ".py",
   "mimetype": "text/x-python",
   "name": "python",
   "nbconvert_exporter": "python",
   "pygments_lexer": "ipython3",
   "version": "3.6.3"
  }
 },
 "nbformat": 4,
 "nbformat_minor": 2
}
