{
 "cells": [
  {
   "cell_type": "markdown",
   "metadata": {},
   "source": [
    "### 1. Import the needed packages"
   ]
  },
  {
   "cell_type": "code",
   "execution_count": 1,
   "metadata": {},
   "outputs": [],
   "source": [
    "import matplotlib.pyplot as plt\n",
    "import numpy as np\n",
    "import pandas as pd\n",
    "import seaborn as sns\n",
    "#import arcpy as ap\n",
    "\n",
    "from mpl_toolkits.basemap import Basemap\n",
    "from matplotlib.patches import Polygon\n",
    "from shapely.geometry import Point\n",
    "from shapely.geometry.polygon import Polygon"
   ]
  },
  {
   "cell_type": "markdown",
   "metadata": {},
   "source": [
    "### 2. Graphics"
   ]
  },
  {
   "cell_type": "code",
   "execution_count": 2,
   "metadata": {},
   "outputs": [],
   "source": [
    "%matplotlib inline\n",
    "sns.set()"
   ]
  },
  {
   "cell_type": "markdown",
   "metadata": {},
   "source": [
    "### 3. Read the data"
   ]
  },
  {
   "cell_type": "code",
   "execution_count": 3,
   "metadata": {
    "collapsed": true
   },
   "outputs": [],
   "source": [
    "regions = pd.read_csv(\"./data/regions.csv\",\n",
    "                      thousands = \",\")"
   ]
  },
  {
   "cell_type": "code",
   "execution_count": 4,
   "metadata": {},
   "outputs": [
    {
     "data": {
      "text/html": [
       "<div>\n",
       "<style>\n",
       "    .dataframe thead tr:only-child th {\n",
       "        text-align: right;\n",
       "    }\n",
       "\n",
       "    .dataframe thead th {\n",
       "        text-align: left;\n",
       "    }\n",
       "\n",
       "    .dataframe tbody tr th {\n",
       "        vertical-align: top;\n",
       "    }\n",
       "</style>\n",
       "<table border=\"1\" class=\"dataframe\">\n",
       "  <thead>\n",
       "    <tr style=\"text-align: right;\">\n",
       "      <th></th>\n",
       "      <th>FID</th>\n",
       "      <th>GID</th>\n",
       "      <th>COD_BAIRRO</th>\n",
       "      <th>NOME</th>\n",
       "      <th>COD_BA_IBGE</th>\n",
       "      <th>AREA</th>\n",
       "      <th>M2_RES</th>\n",
       "      <th>M2_COM</th>\n",
       "      <th>M2_SER</th>\n",
       "      <th>M2_IND</th>\n",
       "      <th>...</th>\n",
       "      <th>VA1</th>\n",
       "      <th>VAL_M2_COM</th>\n",
       "      <th>VAL_M2_SER</th>\n",
       "      <th>VAL_M2_TER</th>\n",
       "      <th>VAL_M2_RES</th>\n",
       "      <th>FONTE</th>\n",
       "      <th>ANO_REF</th>\n",
       "      <th>REGIONAL</th>\n",
       "      <th>MUNICIPIO</th>\n",
       "      <th>THE_GEOM</th>\n",
       "    </tr>\n",
       "  </thead>\n",
       "  <tbody>\n",
       "    <tr>\n",
       "      <th>0</th>\n",
       "      <td>Bairros.fid-2be50750_153af4824fe_2bc9</td>\n",
       "      <td>6</td>\n",
       "      <td>88</td>\n",
       "      <td>PASSARE</td>\n",
       "      <td>230440070088</td>\n",
       "      <td>7167306.57</td>\n",
       "      <td>624073.98</td>\n",
       "      <td>155787.41</td>\n",
       "      <td>7857.90</td>\n",
       "      <td>4306.50</td>\n",
       "      <td>...</td>\n",
       "      <td>0.00</td>\n",
       "      <td>2339.57</td>\n",
       "      <td>2606.88</td>\n",
       "      <td>227.87</td>\n",
       "      <td>2424.77</td>\n",
       "      <td>SEFIN/PMF</td>\n",
       "      <td>2015</td>\n",
       "      <td>6</td>\n",
       "      <td>Fortaleza</td>\n",
       "      <td>POLYGON ((-38.539819067859945 -3.7955371068432...</td>\n",
       "    </tr>\n",
       "    <tr>\n",
       "      <th>1</th>\n",
       "      <td>Bairros.fid-2be50750_153af4824fe_2bca</td>\n",
       "      <td>21</td>\n",
       "      <td>110</td>\n",
       "      <td>CAIS DO PORTO</td>\n",
       "      <td>230440005110</td>\n",
       "      <td>2562799.52</td>\n",
       "      <td>82298.45</td>\n",
       "      <td>209764.75</td>\n",
       "      <td>1226.91</td>\n",
       "      <td>80588.26</td>\n",
       "      <td>...</td>\n",
       "      <td>300.00</td>\n",
       "      <td>3019.32</td>\n",
       "      <td>1599.36</td>\n",
       "      <td>253.73</td>\n",
       "      <td>2627.39</td>\n",
       "      <td>SEFIN/PMF</td>\n",
       "      <td>2015</td>\n",
       "      <td>2</td>\n",
       "      <td>Fortaleza</td>\n",
       "      <td>POLYGON ((-38.479334495231086 -3.7209126986722...</td>\n",
       "    </tr>\n",
       "    <tr>\n",
       "      <th>2</th>\n",
       "      <td>Bairros.fid-2be50750_153af4824fe_2bcb</td>\n",
       "      <td>22</td>\n",
       "      <td>111</td>\n",
       "      <td>CIDADE 2000</td>\n",
       "      <td>230440005111</td>\n",
       "      <td>497197.33</td>\n",
       "      <td>224347.86</td>\n",
       "      <td>36258.14</td>\n",
       "      <td>3588.02</td>\n",
       "      <td>315.30</td>\n",
       "      <td>...</td>\n",
       "      <td>5058781.89</td>\n",
       "      <td>2454.16</td>\n",
       "      <td>2596.93</td>\n",
       "      <td>0.00</td>\n",
       "      <td>2437.00</td>\n",
       "      <td>SEFIN/PMF</td>\n",
       "      <td>2015</td>\n",
       "      <td>2</td>\n",
       "      <td>Fortaleza</td>\n",
       "      <td>POLYGON ((-38.467647506862534 -3.7496832300526...</td>\n",
       "    </tr>\n",
       "    <tr>\n",
       "      <th>3</th>\n",
       "      <td>Bairros.fid-2be50750_153af4824fe_2bcc</td>\n",
       "      <td>23</td>\n",
       "      <td>93</td>\n",
       "      <td>ALTO DA BALANCA</td>\n",
       "      <td>230440075093</td>\n",
       "      <td>916449.74</td>\n",
       "      <td>209265.37</td>\n",
       "      <td>73728.61</td>\n",
       "      <td>5882.62</td>\n",
       "      <td>505.85</td>\n",
       "      <td>...</td>\n",
       "      <td>0.00</td>\n",
       "      <td>1843.36</td>\n",
       "      <td>2042.39</td>\n",
       "      <td>232.30</td>\n",
       "      <td>1784.38</td>\n",
       "      <td>SEFIN/PMF</td>\n",
       "      <td>2015</td>\n",
       "      <td>6</td>\n",
       "      <td>Fortaleza</td>\n",
       "      <td>POLYGON ((-38.51716445420212 -3.76997951516616...</td>\n",
       "    </tr>\n",
       "    <tr>\n",
       "      <th>4</th>\n",
       "      <td>Bairros.fid-2be50750_153af4824fe_2bcd</td>\n",
       "      <td>17</td>\n",
       "      <td>6</td>\n",
       "      <td>BARRA DO CEARA</td>\n",
       "      <td>230440005006</td>\n",
       "      <td>4240250.82</td>\n",
       "      <td>349881.25</td>\n",
       "      <td>243711.76</td>\n",
       "      <td>7352.28</td>\n",
       "      <td>59991.98</td>\n",
       "      <td>...</td>\n",
       "      <td>0.00</td>\n",
       "      <td>1669.99</td>\n",
       "      <td>1491.65</td>\n",
       "      <td>186.89</td>\n",
       "      <td>1551.97</td>\n",
       "      <td>SEFIN/PMF</td>\n",
       "      <td>2015</td>\n",
       "      <td>1</td>\n",
       "      <td>Fortaleza</td>\n",
       "      <td>POLYGON ((-38.56887758295916 -3.70168935573553...</td>\n",
       "    </tr>\n",
       "  </tbody>\n",
       "</table>\n",
       "<p>5 rows × 31 columns</p>\n",
       "</div>"
      ],
      "text/plain": [
       "                                     FID  GID  COD_BAIRRO             NOME  \\\n",
       "0  Bairros.fid-2be50750_153af4824fe_2bc9    6          88          PASSARE   \n",
       "1  Bairros.fid-2be50750_153af4824fe_2bca   21         110    CAIS DO PORTO   \n",
       "2  Bairros.fid-2be50750_153af4824fe_2bcb   22         111      CIDADE 2000   \n",
       "3  Bairros.fid-2be50750_153af4824fe_2bcc   23          93  ALTO DA BALANCA   \n",
       "4  Bairros.fid-2be50750_153af4824fe_2bcd   17           6   BARRA DO CEARA   \n",
       "\n",
       "    COD_BA_IBGE        AREA     M2_RES     M2_COM   M2_SER    M2_IND  \\\n",
       "0  230440070088  7167306.57  624073.98  155787.41  7857.90   4306.50   \n",
       "1  230440005110  2562799.52   82298.45  209764.75  1226.91  80588.26   \n",
       "2  230440005111   497197.33  224347.86   36258.14  3588.02    315.30   \n",
       "3  230440075093   916449.74  209265.37   73728.61  5882.62    505.85   \n",
       "4  230440005006  4240250.82  349881.25  243711.76  7352.28  59991.98   \n",
       "\n",
       "                         ...                                 VA1  VAL_M2_COM  \\\n",
       "0                        ...                                0.00     2339.57   \n",
       "1                        ...                              300.00     3019.32   \n",
       "2                        ...                          5058781.89     2454.16   \n",
       "3                        ...                                0.00     1843.36   \n",
       "4                        ...                                0.00     1669.99   \n",
       "\n",
       "   VAL_M2_SER  VAL_M2_TER  VAL_M2_RES      FONTE  ANO_REF  REGIONAL  \\\n",
       "0     2606.88      227.87     2424.77  SEFIN/PMF     2015         6   \n",
       "1     1599.36      253.73     2627.39  SEFIN/PMF     2015         2   \n",
       "2     2596.93        0.00     2437.00  SEFIN/PMF     2015         2   \n",
       "3     2042.39      232.30     1784.38  SEFIN/PMF     2015         6   \n",
       "4     1491.65      186.89     1551.97  SEFIN/PMF     2015         1   \n",
       "\n",
       "   MUNICIPIO                                           THE_GEOM  \n",
       "0  Fortaleza  POLYGON ((-38.539819067859945 -3.7955371068432...  \n",
       "1  Fortaleza  POLYGON ((-38.479334495231086 -3.7209126986722...  \n",
       "2  Fortaleza  POLYGON ((-38.467647506862534 -3.7496832300526...  \n",
       "3  Fortaleza  POLYGON ((-38.51716445420212 -3.76997951516616...  \n",
       "4  Fortaleza  POLYGON ((-38.56887758295916 -3.70168935573553...  \n",
       "\n",
       "[5 rows x 31 columns]"
      ]
     },
     "execution_count": 4,
     "metadata": {},
     "output_type": "execute_result"
    }
   ],
   "source": [
    "regions.head()"
   ]
  },
  {
   "cell_type": "code",
   "execution_count": 5,
   "metadata": {
    "collapsed": true
   },
   "outputs": [],
   "source": [
    "calls = pd.read_csv(\"./data/policecalls.csv\",\n",
    "                      thousands = \",\")"
   ]
  },
  {
   "cell_type": "code",
   "execution_count": 6,
   "metadata": {},
   "outputs": [
    {
     "data": {
      "text/html": [
       "<div>\n",
       "<style>\n",
       "    .dataframe thead tr:only-child th {\n",
       "        text-align: right;\n",
       "    }\n",
       "\n",
       "    .dataframe thead th {\n",
       "        text-align: left;\n",
       "    }\n",
       "\n",
       "    .dataframe tbody tr th {\n",
       "        vertical-align: top;\n",
       "    }\n",
       "</style>\n",
       "<table border=\"1\" class=\"dataframe\">\n",
       "  <thead>\n",
       "    <tr style=\"text-align: right;\">\n",
       "      <th></th>\n",
       "      <th>date</th>\n",
       "      <th>type</th>\n",
       "      <th>lat</th>\n",
       "      <th>lng</th>\n",
       "    </tr>\n",
       "  </thead>\n",
       "  <tbody>\n",
       "    <tr>\n",
       "      <th>0</th>\n",
       "      <td>2005-01-01</td>\n",
       "      <td>PROPERTY CRIMES</td>\n",
       "      <td>-3.73784</td>\n",
       "      <td>-38.5554</td>\n",
       "    </tr>\n",
       "    <tr>\n",
       "      <th>1</th>\n",
       "      <td>2005-01-01</td>\n",
       "      <td>PROPERTY CRIMES</td>\n",
       "      <td>-3.83914</td>\n",
       "      <td>-38.5606</td>\n",
       "    </tr>\n",
       "    <tr>\n",
       "      <th>2</th>\n",
       "      <td>2005-01-01</td>\n",
       "      <td>PROPERTY CRIMES</td>\n",
       "      <td>-3.72623</td>\n",
       "      <td>-38.5778</td>\n",
       "    </tr>\n",
       "    <tr>\n",
       "      <th>3</th>\n",
       "      <td>2005-01-01</td>\n",
       "      <td>PROPERTY CRIMES</td>\n",
       "      <td>-3.79500</td>\n",
       "      <td>-38.5010</td>\n",
       "    </tr>\n",
       "    <tr>\n",
       "      <th>4</th>\n",
       "      <td>2005-01-01</td>\n",
       "      <td>PROPERTY CRIMES</td>\n",
       "      <td>-3.72222</td>\n",
       "      <td>-38.4813</td>\n",
       "    </tr>\n",
       "  </tbody>\n",
       "</table>\n",
       "</div>"
      ],
      "text/plain": [
       "         date             type      lat      lng\n",
       "0  2005-01-01  PROPERTY CRIMES -3.73784 -38.5554\n",
       "1  2005-01-01  PROPERTY CRIMES -3.83914 -38.5606\n",
       "2  2005-01-01  PROPERTY CRIMES -3.72623 -38.5778\n",
       "3  2005-01-01  PROPERTY CRIMES -3.79500 -38.5010\n",
       "4  2005-01-01  PROPERTY CRIMES -3.72222 -38.4813"
      ]
     },
     "execution_count": 6,
     "metadata": {},
     "output_type": "execute_result"
    }
   ],
   "source": [
    "calls.head()"
   ]
  },
  {
   "cell_type": "code",
   "execution_count": 7,
   "metadata": {},
   "outputs": [
    {
     "data": {
      "text/plain": [
       "array(['PROPERTY CRIMES', 'DISTURBING THE PEACE'], dtype=object)"
      ]
     },
     "execution_count": 7,
     "metadata": {},
     "output_type": "execute_result"
    }
   ],
   "source": [
    "calls[\"type\"].unique()"
   ]
  },
  {
   "cell_type": "code",
   "execution_count": 8,
   "metadata": {},
   "outputs": [
    {
     "data": {
      "text/plain": [
       "71    POLYGON ((-38.48339914673369 -3.81778595182948...\n",
       "Name: THE_GEOM, dtype: object"
      ]
     },
     "execution_count": 8,
     "metadata": {},
     "output_type": "execute_result"
    }
   ],
   "source": [
    "regions[regions[\"NOME\"] == \"MESSEJANA\"][\"THE_GEOM\"]"
   ]
  },
  {
   "cell_type": "code",
   "execution_count": null,
   "metadata": {},
   "outputs": [],
   "source": [
    "#polygon = Polygon(regions[regions[\"NOME\"] == \"MESSEJANA\"][\"THE_GEOM\"])"
   ]
  },
  {
   "cell_type": "markdown",
   "metadata": {},
   "source": [
    "<code>from shapely.geometry import Point\n",
    "from shapely.geometry.polygon import Polygon\n",
    "\n",
    "lons_lats_vect = np.column_stack((lons_vect, lats_vect)) # Reshape coordinates\n",
    "polygon = Polygon(lons_lats_vect) # create polygon\n",
    "point = Point(y,x) # create point\n",
    "print(polygon.contains(point)) # check if polygon contains point</code>"
   ]
  },
  {
   "cell_type": "code",
   "execution_count": null,
   "metadata": {},
   "outputs": [],
   "source": [
    "#calls[\"vector\"] = np.column_stack((calls[\"lng\"], calls[\"lat\"]))"
   ]
  },
  {
   "cell_type": "code",
   "execution_count": null,
   "metadata": {
    "collapsed": true
   },
   "outputs": [],
   "source": []
  }
 ],
 "metadata": {
  "kernelspec": {
   "display_name": "Python 3",
   "language": "python",
   "name": "python3"
  },
  "language_info": {
   "codemirror_mode": {
    "name": "ipython",
    "version": 3
   },
   "file_extension": ".py",
   "mimetype": "text/x-python",
   "name": "python",
   "nbconvert_exporter": "python",
   "pygments_lexer": "ipython3",
   "version": "3.6.2"
  }
 },
 "nbformat": 4,
 "nbformat_minor": 2
}
