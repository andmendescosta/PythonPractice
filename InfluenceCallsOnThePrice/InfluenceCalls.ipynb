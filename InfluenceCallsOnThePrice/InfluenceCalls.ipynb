{
 "cells": [
  {
   "cell_type": "markdown",
   "metadata": {},
   "source": [
    "### 1. Import the needed packages"
   ]
  },
  {
   "cell_type": "code",
   "execution_count": 1,
   "metadata": {},
   "outputs": [],
   "source": [
    "import matplotlib.pyplot as plt\n",
    "import numpy as np\n",
    "import pandas as pd\n",
    "import geopandas as gpd\n",
    "import seaborn as sns\n",
    "from geopandas.tools import sjoin\n",
    "#import arcpy as ap\n",
    "\n",
    "from mpl_toolkits.basemap import Basemap\n",
    "from matplotlib.patches import Polygon\n",
    "from shapely.geometry import Point\n",
    "from shapely.geometry.polygon import LinearRing, Polygon\n",
    "\n"
   ]
  },
  {
   "cell_type": "markdown",
   "metadata": {},
   "source": [
    "### 2. Graphics"
   ]
  },
  {
   "cell_type": "code",
   "execution_count": 2,
   "metadata": {
    "collapsed": true
   },
   "outputs": [],
   "source": [
    "%matplotlib inline\n",
    "sns.set()"
   ]
  },
  {
   "cell_type": "markdown",
   "metadata": {},
   "source": [
    "### 3. Read the data"
   ]
  },
  {
   "cell_type": "code",
   "execution_count": 3,
   "metadata": {},
   "outputs": [],
   "source": [
    "regions = pd.read_csv(\"./data/regions.csv\",\n",
    "                      thousands = \",\")"
   ]
  },
  {
   "cell_type": "code",
   "execution_count": 4,
   "metadata": {},
   "outputs": [],
   "source": [
    "calls = pd.read_csv(\"./data/policecalls2.csv\",\n",
    "                      thousands = \",\")"
   ]
  },
  {
   "cell_type": "code",
   "execution_count": 5,
   "metadata": {},
   "outputs": [],
   "source": [
    "shp_regions = gpd.read_file(\"./data/bairrosshape.shp\")"
   ]
  },
  {
   "cell_type": "code",
   "execution_count": 6,
   "metadata": {},
   "outputs": [
    {
     "data": {
      "text/html": [
       "<div>\n",
       "<style>\n",
       "    .dataframe thead tr:only-child th {\n",
       "        text-align: right;\n",
       "    }\n",
       "\n",
       "    .dataframe thead th {\n",
       "        text-align: left;\n",
       "    }\n",
       "\n",
       "    .dataframe tbody tr th {\n",
       "        vertical-align: top;\n",
       "    }\n",
       "</style>\n",
       "<table border=\"1\" class=\"dataframe\">\n",
       "  <thead>\n",
       "    <tr style=\"text-align: right;\">\n",
       "      <th></th>\n",
       "      <th>geometry</th>\n",
       "    </tr>\n",
       "  </thead>\n",
       "  <tbody>\n",
       "    <tr>\n",
       "      <th>0</th>\n",
       "      <td>POLYGON ((557111.5512800919 9572820.817811906,...</td>\n",
       "    </tr>\n",
       "    <tr>\n",
       "      <th>1</th>\n",
       "      <td>POLYGON ((544939.6455280662 9584194.278042048,...</td>\n",
       "    </tr>\n",
       "    <tr>\n",
       "      <th>2</th>\n",
       "      <td>POLYGON ((550659.0628261907 9586899.4303114, 5...</td>\n",
       "    </tr>\n",
       "    <tr>\n",
       "      <th>3</th>\n",
       "      <td>POLYGON ((560831.4859760788 9579940.937792439,...</td>\n",
       "    </tr>\n",
       "    <tr>\n",
       "      <th>4</th>\n",
       "      <td>POLYGON ((545023.2264405567 9583750.344660914,...</td>\n",
       "    </tr>\n",
       "  </tbody>\n",
       "</table>\n",
       "</div>"
      ],
      "text/plain": [
       "                                            geometry\n",
       "0  POLYGON ((557111.5512800919 9572820.817811906,...\n",
       "1  POLYGON ((544939.6455280662 9584194.278042048,...\n",
       "2  POLYGON ((550659.0628261907 9586899.4303114, 5...\n",
       "3  POLYGON ((560831.4859760788 9579940.937792439,...\n",
       "4  POLYGON ((545023.2264405567 9583750.344660914,..."
      ]
     },
     "execution_count": 6,
     "metadata": {},
     "output_type": "execute_result"
    }
   ],
   "source": [
    "shp_regions.head()"
   ]
  },
  {
   "cell_type": "markdown",
   "metadata": {},
   "source": [
    "### 4. Create Geometry"
   ]
  },
  {
   "cell_type": "code",
   "execution_count": 7,
   "metadata": {},
   "outputs": [],
   "source": [
    "calls[\"geometry\"] = gpd.GeoDataFrame([Point(x,y) for x, y in zip(calls['lng'], calls['lat'])])"
   ]
  },
  {
   "cell_type": "code",
   "execution_count": 8,
   "metadata": {},
   "outputs": [],
   "source": [
    "calls = gpd.GeoDataFrame(calls)"
   ]
  },
  {
   "cell_type": "code",
   "execution_count": 9,
   "metadata": {},
   "outputs": [],
   "source": [
    "regions[\"geometry\"] = gpd.GeoDataFrame(regions[\"THE_GEOM\"])"
   ]
  },
  {
   "cell_type": "code",
   "execution_count": 10,
   "metadata": {},
   "outputs": [],
   "source": [
    "regions = gpd.GeoDataFrame(regions)"
   ]
  },
  {
   "cell_type": "code",
   "execution_count": 12,
   "metadata": {},
   "outputs": [],
   "source": [
    "shp_regions.crs = {'init': 'epsg:4326'}\n",
    "calls.crs = {'init': 'epsg:4326'}\n",
    "regions.crs = {'init': 'epsg:4326'}"
   ]
  },
  {
   "cell_type": "markdown",
   "metadata": {},
   "source": [
    "### 5. Visualize data"
   ]
  },
  {
   "cell_type": "code",
   "execution_count": 13,
   "metadata": {},
   "outputs": [
    {
     "data": {
      "text/html": [
       "<div>\n",
       "<style>\n",
       "    .dataframe thead tr:only-child th {\n",
       "        text-align: right;\n",
       "    }\n",
       "\n",
       "    .dataframe thead th {\n",
       "        text-align: left;\n",
       "    }\n",
       "\n",
       "    .dataframe tbody tr th {\n",
       "        vertical-align: top;\n",
       "    }\n",
       "</style>\n",
       "<table border=\"1\" class=\"dataframe\">\n",
       "  <thead>\n",
       "    <tr style=\"text-align: right;\">\n",
       "      <th></th>\n",
       "      <th>FID</th>\n",
       "      <th>GID</th>\n",
       "      <th>COD_BAIRRO</th>\n",
       "      <th>NOME</th>\n",
       "      <th>COD_BA_IBGE</th>\n",
       "      <th>AREA</th>\n",
       "      <th>M2_RES</th>\n",
       "      <th>M2_COM</th>\n",
       "      <th>M2_SER</th>\n",
       "      <th>M2_IND</th>\n",
       "      <th>...</th>\n",
       "      <th>VAL_M2_COM</th>\n",
       "      <th>VAL_M2_SER</th>\n",
       "      <th>VAL_M2_TER</th>\n",
       "      <th>VAL_M2_RES</th>\n",
       "      <th>FONTE</th>\n",
       "      <th>ANO_REF</th>\n",
       "      <th>REGIONAL</th>\n",
       "      <th>MUNICIPIO</th>\n",
       "      <th>THE_GEOM</th>\n",
       "      <th>geometry</th>\n",
       "    </tr>\n",
       "  </thead>\n",
       "  <tbody>\n",
       "    <tr>\n",
       "      <th>0</th>\n",
       "      <td>Bairros.fid-2be50750_153af4824fe_2bc9</td>\n",
       "      <td>6</td>\n",
       "      <td>88</td>\n",
       "      <td>PASSARE</td>\n",
       "      <td>230440070088</td>\n",
       "      <td>7167306.57</td>\n",
       "      <td>624073.98</td>\n",
       "      <td>155787.41</td>\n",
       "      <td>7857.90</td>\n",
       "      <td>4306.50</td>\n",
       "      <td>...</td>\n",
       "      <td>2339.57</td>\n",
       "      <td>2606.88</td>\n",
       "      <td>227.87</td>\n",
       "      <td>2424.77</td>\n",
       "      <td>SEFIN/PMF</td>\n",
       "      <td>2015</td>\n",
       "      <td>6</td>\n",
       "      <td>Fortaleza</td>\n",
       "      <td>POLYGON ((-38.539819067859945 -3.7955371068432...</td>\n",
       "      <td>POLYGON ((-38.539819067859945 -3.7955371068432...</td>\n",
       "    </tr>\n",
       "    <tr>\n",
       "      <th>1</th>\n",
       "      <td>Bairros.fid-2be50750_153af4824fe_2bca</td>\n",
       "      <td>21</td>\n",
       "      <td>110</td>\n",
       "      <td>CAIS DO PORTO</td>\n",
       "      <td>230440005110</td>\n",
       "      <td>2562799.52</td>\n",
       "      <td>82298.45</td>\n",
       "      <td>209764.75</td>\n",
       "      <td>1226.91</td>\n",
       "      <td>80588.26</td>\n",
       "      <td>...</td>\n",
       "      <td>3019.32</td>\n",
       "      <td>1599.36</td>\n",
       "      <td>253.73</td>\n",
       "      <td>2627.39</td>\n",
       "      <td>SEFIN/PMF</td>\n",
       "      <td>2015</td>\n",
       "      <td>2</td>\n",
       "      <td>Fortaleza</td>\n",
       "      <td>POLYGON ((-38.479334495231086 -3.7209126986722...</td>\n",
       "      <td>POLYGON ((-38.479334495231086 -3.7209126986722...</td>\n",
       "    </tr>\n",
       "    <tr>\n",
       "      <th>2</th>\n",
       "      <td>Bairros.fid-2be50750_153af4824fe_2bcb</td>\n",
       "      <td>22</td>\n",
       "      <td>111</td>\n",
       "      <td>CIDADE 2000</td>\n",
       "      <td>230440005111</td>\n",
       "      <td>497197.33</td>\n",
       "      <td>224347.86</td>\n",
       "      <td>36258.14</td>\n",
       "      <td>3588.02</td>\n",
       "      <td>315.30</td>\n",
       "      <td>...</td>\n",
       "      <td>2454.16</td>\n",
       "      <td>2596.93</td>\n",
       "      <td>0.00</td>\n",
       "      <td>2437.00</td>\n",
       "      <td>SEFIN/PMF</td>\n",
       "      <td>2015</td>\n",
       "      <td>2</td>\n",
       "      <td>Fortaleza</td>\n",
       "      <td>POLYGON ((-38.467647506862534 -3.7496832300526...</td>\n",
       "      <td>POLYGON ((-38.467647506862534 -3.7496832300526...</td>\n",
       "    </tr>\n",
       "    <tr>\n",
       "      <th>3</th>\n",
       "      <td>Bairros.fid-2be50750_153af4824fe_2bcc</td>\n",
       "      <td>23</td>\n",
       "      <td>93</td>\n",
       "      <td>ALTO DA BALANCA</td>\n",
       "      <td>230440075093</td>\n",
       "      <td>916449.74</td>\n",
       "      <td>209265.37</td>\n",
       "      <td>73728.61</td>\n",
       "      <td>5882.62</td>\n",
       "      <td>505.85</td>\n",
       "      <td>...</td>\n",
       "      <td>1843.36</td>\n",
       "      <td>2042.39</td>\n",
       "      <td>232.30</td>\n",
       "      <td>1784.38</td>\n",
       "      <td>SEFIN/PMF</td>\n",
       "      <td>2015</td>\n",
       "      <td>6</td>\n",
       "      <td>Fortaleza</td>\n",
       "      <td>POLYGON ((-38.51716445420212 -3.76997951516616...</td>\n",
       "      <td>POLYGON ((-38.51716445420212 -3.76997951516616...</td>\n",
       "    </tr>\n",
       "    <tr>\n",
       "      <th>4</th>\n",
       "      <td>Bairros.fid-2be50750_153af4824fe_2bcd</td>\n",
       "      <td>17</td>\n",
       "      <td>6</td>\n",
       "      <td>BARRA DO CEARA</td>\n",
       "      <td>230440005006</td>\n",
       "      <td>4240250.82</td>\n",
       "      <td>349881.25</td>\n",
       "      <td>243711.76</td>\n",
       "      <td>7352.28</td>\n",
       "      <td>59991.98</td>\n",
       "      <td>...</td>\n",
       "      <td>1669.99</td>\n",
       "      <td>1491.65</td>\n",
       "      <td>186.89</td>\n",
       "      <td>1551.97</td>\n",
       "      <td>SEFIN/PMF</td>\n",
       "      <td>2015</td>\n",
       "      <td>1</td>\n",
       "      <td>Fortaleza</td>\n",
       "      <td>POLYGON ((-38.56887758295916 -3.70168935573553...</td>\n",
       "      <td>POLYGON ((-38.56887758295916 -3.70168935573553...</td>\n",
       "    </tr>\n",
       "  </tbody>\n",
       "</table>\n",
       "<p>5 rows × 32 columns</p>\n",
       "</div>"
      ],
      "text/plain": [
       "                                     FID  GID  COD_BAIRRO             NOME  \\\n",
       "0  Bairros.fid-2be50750_153af4824fe_2bc9    6          88          PASSARE   \n",
       "1  Bairros.fid-2be50750_153af4824fe_2bca   21         110    CAIS DO PORTO   \n",
       "2  Bairros.fid-2be50750_153af4824fe_2bcb   22         111      CIDADE 2000   \n",
       "3  Bairros.fid-2be50750_153af4824fe_2bcc   23          93  ALTO DA BALANCA   \n",
       "4  Bairros.fid-2be50750_153af4824fe_2bcd   17           6   BARRA DO CEARA   \n",
       "\n",
       "    COD_BA_IBGE        AREA     M2_RES     M2_COM   M2_SER    M2_IND  \\\n",
       "0  230440070088  7167306.57  624073.98  155787.41  7857.90   4306.50   \n",
       "1  230440005110  2562799.52   82298.45  209764.75  1226.91  80588.26   \n",
       "2  230440005111   497197.33  224347.86   36258.14  3588.02    315.30   \n",
       "3  230440075093   916449.74  209265.37   73728.61  5882.62    505.85   \n",
       "4  230440005006  4240250.82  349881.25  243711.76  7352.28  59991.98   \n",
       "\n",
       "                         ...                          VAL_M2_COM  VAL_M2_SER  \\\n",
       "0                        ...                             2339.57     2606.88   \n",
       "1                        ...                             3019.32     1599.36   \n",
       "2                        ...                             2454.16     2596.93   \n",
       "3                        ...                             1843.36     2042.39   \n",
       "4                        ...                             1669.99     1491.65   \n",
       "\n",
       "   VAL_M2_TER  VAL_M2_RES      FONTE  ANO_REF  REGIONAL  MUNICIPIO  \\\n",
       "0      227.87     2424.77  SEFIN/PMF     2015         6  Fortaleza   \n",
       "1      253.73     2627.39  SEFIN/PMF     2015         2  Fortaleza   \n",
       "2        0.00     2437.00  SEFIN/PMF     2015         2  Fortaleza   \n",
       "3      232.30     1784.38  SEFIN/PMF     2015         6  Fortaleza   \n",
       "4      186.89     1551.97  SEFIN/PMF     2015         1  Fortaleza   \n",
       "\n",
       "                                            THE_GEOM  \\\n",
       "0  POLYGON ((-38.539819067859945 -3.7955371068432...   \n",
       "1  POLYGON ((-38.479334495231086 -3.7209126986722...   \n",
       "2  POLYGON ((-38.467647506862534 -3.7496832300526...   \n",
       "3  POLYGON ((-38.51716445420212 -3.76997951516616...   \n",
       "4  POLYGON ((-38.56887758295916 -3.70168935573553...   \n",
       "\n",
       "                                            geometry  \n",
       "0  POLYGON ((-38.539819067859945 -3.7955371068432...  \n",
       "1  POLYGON ((-38.479334495231086 -3.7209126986722...  \n",
       "2  POLYGON ((-38.467647506862534 -3.7496832300526...  \n",
       "3  POLYGON ((-38.51716445420212 -3.76997951516616...  \n",
       "4  POLYGON ((-38.56887758295916 -3.70168935573553...  \n",
       "\n",
       "[5 rows x 32 columns]"
      ]
     },
     "execution_count": 13,
     "metadata": {},
     "output_type": "execute_result"
    }
   ],
   "source": [
    "regions.head()"
   ]
  },
  {
   "cell_type": "code",
   "execution_count": 14,
   "metadata": {},
   "outputs": [
    {
     "data": {
      "text/html": [
       "<div>\n",
       "<style>\n",
       "    .dataframe thead tr:only-child th {\n",
       "        text-align: right;\n",
       "    }\n",
       "\n",
       "    .dataframe thead th {\n",
       "        text-align: left;\n",
       "    }\n",
       "\n",
       "    .dataframe tbody tr th {\n",
       "        vertical-align: top;\n",
       "    }\n",
       "</style>\n",
       "<table border=\"1\" class=\"dataframe\">\n",
       "  <thead>\n",
       "    <tr style=\"text-align: right;\">\n",
       "      <th></th>\n",
       "      <th>number</th>\n",
       "      <th>date</th>\n",
       "      <th>type</th>\n",
       "      <th>lat</th>\n",
       "      <th>lng</th>\n",
       "      <th>geometry</th>\n",
       "    </tr>\n",
       "  </thead>\n",
       "  <tbody>\n",
       "    <tr>\n",
       "      <th>0</th>\n",
       "      <td>1</td>\n",
       "      <td>01/01/2005</td>\n",
       "      <td>PROPERTY CRIMES</td>\n",
       "      <td>-373.784</td>\n",
       "      <td>-385.554</td>\n",
       "      <td>POINT (-385.554 -373.784)</td>\n",
       "    </tr>\n",
       "    <tr>\n",
       "      <th>1</th>\n",
       "      <td>2</td>\n",
       "      <td>01/01/2005</td>\n",
       "      <td>PROPERTY CRIMES</td>\n",
       "      <td>-383.914</td>\n",
       "      <td>-385.606</td>\n",
       "      <td>POINT (-385.606 -383.914)</td>\n",
       "    </tr>\n",
       "    <tr>\n",
       "      <th>2</th>\n",
       "      <td>3</td>\n",
       "      <td>01/01/2005</td>\n",
       "      <td>PROPERTY CRIMES</td>\n",
       "      <td>-372.623</td>\n",
       "      <td>-385.778</td>\n",
       "      <td>POINT (-385.778 -372.623)</td>\n",
       "    </tr>\n",
       "    <tr>\n",
       "      <th>3</th>\n",
       "      <td>4</td>\n",
       "      <td>01/01/2005</td>\n",
       "      <td>PROPERTY CRIMES</td>\n",
       "      <td>-3.795</td>\n",
       "      <td>-38.501</td>\n",
       "      <td>POINT (-38.501 -3.795)</td>\n",
       "    </tr>\n",
       "    <tr>\n",
       "      <th>4</th>\n",
       "      <td>5</td>\n",
       "      <td>01/01/2005</td>\n",
       "      <td>PROPERTY CRIMES</td>\n",
       "      <td>-372.222</td>\n",
       "      <td>-384.813</td>\n",
       "      <td>POINT (-384.813 -372.222)</td>\n",
       "    </tr>\n",
       "  </tbody>\n",
       "</table>\n",
       "</div>"
      ],
      "text/plain": [
       "   number        date             type      lat      lng  \\\n",
       "0       1  01/01/2005  PROPERTY CRIMES -373.784 -385.554   \n",
       "1       2  01/01/2005  PROPERTY CRIMES -383.914 -385.606   \n",
       "2       3  01/01/2005  PROPERTY CRIMES -372.623 -385.778   \n",
       "3       4  01/01/2005  PROPERTY CRIMES   -3.795  -38.501   \n",
       "4       5  01/01/2005  PROPERTY CRIMES -372.222 -384.813   \n",
       "\n",
       "                    geometry  \n",
       "0  POINT (-385.554 -373.784)  \n",
       "1  POINT (-385.606 -383.914)  \n",
       "2  POINT (-385.778 -372.623)  \n",
       "3     POINT (-38.501 -3.795)  \n",
       "4  POINT (-384.813 -372.222)  "
      ]
     },
     "execution_count": 14,
     "metadata": {},
     "output_type": "execute_result"
    }
   ],
   "source": [
    "calls.head()"
   ]
  },
  {
   "cell_type": "code",
   "execution_count": 15,
   "metadata": {},
   "outputs": [
    {
     "ename": "NameError",
     "evalue": "name 'shp' is not defined",
     "output_type": "error",
     "traceback": [
      "\u001b[1;31m---------------------------------------------------------------------------\u001b[0m",
      "\u001b[1;31mNameError\u001b[0m                                 Traceback (most recent call last)",
      "\u001b[1;32m<ipython-input-15-49442c4feaa4>\u001b[0m in \u001b[0;36m<module>\u001b[1;34m()\u001b[0m\n\u001b[1;32m----> 1\u001b[1;33m \u001b[0mshp\u001b[0m\u001b[1;33m.\u001b[0m\u001b[0mplot\u001b[0m\u001b[1;33m(\u001b[0m\u001b[1;33m)\u001b[0m\u001b[1;33m\u001b[0m\u001b[0m\n\u001b[0m",
      "\u001b[1;31mNameError\u001b[0m: name 'shp' is not defined"
     ]
    }
   ],
   "source": [
    "shp.plot()"
   ]
  },
  {
   "cell_type": "markdown",
   "metadata": {},
   "source": [
    "### 6. Create Poins "
   ]
  },
  {
   "cell_type": "code",
   "execution_count": 16,
   "metadata": {},
   "outputs": [],
   "source": [
    "#calls[\"lat_long\"] = calls[[\"lat\", \"lng\"]].apply(tuple, axis=1)"
   ]
  },
  {
   "cell_type": "code",
   "execution_count": 17,
   "metadata": {},
   "outputs": [],
   "source": [
    "#calls[\"point\"] = gpd.GeoDataFrame([Point(x,y) for x, y in zip(calls['lng'], calls['lat'])])"
   ]
  },
  {
   "cell_type": "code",
   "execution_count": 18,
   "metadata": {},
   "outputs": [],
   "source": [
    "#calls.head()"
   ]
  },
  {
   "cell_type": "markdown",
   "metadata": {},
   "source": [
    "### 7. Columns that interest"
   ]
  },
  {
   "cell_type": "code",
   "execution_count": 19,
   "metadata": {
    "collapsed": true
   },
   "outputs": [],
   "source": [
    "columns_of_interest = [\"NOME\", \"VAL_M2_RES\", \"geometry\"]\n",
    "regions = regions[columns_of_interest]\n",
    "regions.columns = [\"BAIRRO\", \"VAL_M2_RES\", \"geometry\"]"
   ]
  },
  {
   "cell_type": "code",
   "execution_count": 20,
   "metadata": {},
   "outputs": [],
   "source": [
    "columns_of_interest = [\"number\", \"geometry\"]\n",
    "calls = calls[columns_of_interest]\n",
    "calls.columns = [\"TIPO\", \"geometry\"]"
   ]
  },
  {
   "cell_type": "code",
   "execution_count": 21,
   "metadata": {},
   "outputs": [
    {
     "data": {
      "text/html": [
       "<div>\n",
       "<style>\n",
       "    .dataframe thead tr:only-child th {\n",
       "        text-align: right;\n",
       "    }\n",
       "\n",
       "    .dataframe thead th {\n",
       "        text-align: left;\n",
       "    }\n",
       "\n",
       "    .dataframe tbody tr th {\n",
       "        vertical-align: top;\n",
       "    }\n",
       "</style>\n",
       "<table border=\"1\" class=\"dataframe\">\n",
       "  <thead>\n",
       "    <tr style=\"text-align: right;\">\n",
       "      <th></th>\n",
       "      <th>BAIRRO</th>\n",
       "      <th>VAL_M2_RES</th>\n",
       "      <th>geometry</th>\n",
       "    </tr>\n",
       "  </thead>\n",
       "  <tbody>\n",
       "    <tr>\n",
       "      <th>0</th>\n",
       "      <td>PASSARE</td>\n",
       "      <td>2424.77</td>\n",
       "      <td>POLYGON ((-38.539819067859945 -3.7955371068432...</td>\n",
       "    </tr>\n",
       "    <tr>\n",
       "      <th>1</th>\n",
       "      <td>CAIS DO PORTO</td>\n",
       "      <td>2627.39</td>\n",
       "      <td>POLYGON ((-38.479334495231086 -3.7209126986722...</td>\n",
       "    </tr>\n",
       "    <tr>\n",
       "      <th>2</th>\n",
       "      <td>CIDADE 2000</td>\n",
       "      <td>2437.00</td>\n",
       "      <td>POLYGON ((-38.467647506862534 -3.7496832300526...</td>\n",
       "    </tr>\n",
       "    <tr>\n",
       "      <th>3</th>\n",
       "      <td>ALTO DA BALANCA</td>\n",
       "      <td>1784.38</td>\n",
       "      <td>POLYGON ((-38.51716445420212 -3.76997951516616...</td>\n",
       "    </tr>\n",
       "    <tr>\n",
       "      <th>4</th>\n",
       "      <td>BARRA DO CEARA</td>\n",
       "      <td>1551.97</td>\n",
       "      <td>POLYGON ((-38.56887758295916 -3.70168935573553...</td>\n",
       "    </tr>\n",
       "  </tbody>\n",
       "</table>\n",
       "</div>"
      ],
      "text/plain": [
       "            BAIRRO  VAL_M2_RES  \\\n",
       "0          PASSARE     2424.77   \n",
       "1    CAIS DO PORTO     2627.39   \n",
       "2      CIDADE 2000     2437.00   \n",
       "3  ALTO DA BALANCA     1784.38   \n",
       "4   BARRA DO CEARA     1551.97   \n",
       "\n",
       "                                            geometry  \n",
       "0  POLYGON ((-38.539819067859945 -3.7955371068432...  \n",
       "1  POLYGON ((-38.479334495231086 -3.7209126986722...  \n",
       "2  POLYGON ((-38.467647506862534 -3.7496832300526...  \n",
       "3  POLYGON ((-38.51716445420212 -3.76997951516616...  \n",
       "4  POLYGON ((-38.56887758295916 -3.70168935573553...  "
      ]
     },
     "execution_count": 21,
     "metadata": {},
     "output_type": "execute_result"
    }
   ],
   "source": [
    "regions.head()"
   ]
  },
  {
   "cell_type": "code",
   "execution_count": 22,
   "metadata": {},
   "outputs": [
    {
     "data": {
      "text/html": [
       "<div>\n",
       "<style>\n",
       "    .dataframe thead tr:only-child th {\n",
       "        text-align: right;\n",
       "    }\n",
       "\n",
       "    .dataframe thead th {\n",
       "        text-align: left;\n",
       "    }\n",
       "\n",
       "    .dataframe tbody tr th {\n",
       "        vertical-align: top;\n",
       "    }\n",
       "</style>\n",
       "<table border=\"1\" class=\"dataframe\">\n",
       "  <thead>\n",
       "    <tr style=\"text-align: right;\">\n",
       "      <th></th>\n",
       "      <th>TIPO</th>\n",
       "      <th>geometry</th>\n",
       "    </tr>\n",
       "  </thead>\n",
       "  <tbody>\n",
       "    <tr>\n",
       "      <th>0</th>\n",
       "      <td>1</td>\n",
       "      <td>POINT (-385.554 -373.784)</td>\n",
       "    </tr>\n",
       "    <tr>\n",
       "      <th>1</th>\n",
       "      <td>2</td>\n",
       "      <td>POINT (-385.606 -383.914)</td>\n",
       "    </tr>\n",
       "    <tr>\n",
       "      <th>2</th>\n",
       "      <td>3</td>\n",
       "      <td>POINT (-385.778 -372.623)</td>\n",
       "    </tr>\n",
       "    <tr>\n",
       "      <th>3</th>\n",
       "      <td>4</td>\n",
       "      <td>POINT (-38.501 -3.795)</td>\n",
       "    </tr>\n",
       "    <tr>\n",
       "      <th>4</th>\n",
       "      <td>5</td>\n",
       "      <td>POINT (-384.813 -372.222)</td>\n",
       "    </tr>\n",
       "  </tbody>\n",
       "</table>\n",
       "</div>"
      ],
      "text/plain": [
       "   TIPO                   geometry\n",
       "0     1  POINT (-385.554 -373.784)\n",
       "1     2  POINT (-385.606 -383.914)\n",
       "2     3  POINT (-385.778 -372.623)\n",
       "3     4     POINT (-38.501 -3.795)\n",
       "4     5  POINT (-384.813 -372.222)"
      ]
     },
     "execution_count": 22,
     "metadata": {},
     "output_type": "execute_result"
    }
   ],
   "source": [
    "calls.head()"
   ]
  },
  {
   "cell_type": "code",
   "execution_count": 23,
   "metadata": {},
   "outputs": [
    {
     "ename": "AttributeError",
     "evalue": "'str' object has no attribute 'bounds'",
     "output_type": "error",
     "traceback": [
      "\u001b[1;31m---------------------------------------------------------------------------\u001b[0m",
      "\u001b[1;31mAttributeError\u001b[0m                            Traceback (most recent call last)",
      "\u001b[1;32m<ipython-input-23-20b3a11ea4c8>\u001b[0m in \u001b[0;36m<module>\u001b[1;34m()\u001b[0m\n\u001b[1;32m----> 1\u001b[1;33m \u001b[0mcalls_and_regions\u001b[0m \u001b[1;33m=\u001b[0m \u001b[0mgpd\u001b[0m\u001b[1;33m.\u001b[0m\u001b[0msjoin\u001b[0m\u001b[1;33m(\u001b[0m\u001b[0mcalls\u001b[0m\u001b[1;33m,\u001b[0m \u001b[0mregions\u001b[0m\u001b[1;33m,\u001b[0m \u001b[0mop\u001b[0m\u001b[1;33m=\u001b[0m\u001b[1;34m\"within\"\u001b[0m\u001b[1;33m)\u001b[0m\u001b[1;33m\u001b[0m\u001b[0m\n\u001b[0m",
      "\u001b[1;32mC:\\ProgramData\\Anaconda3\\lib\\site-packages\\geopandas\\tools\\sjoin.py\u001b[0m in \u001b[0;36msjoin\u001b[1;34m(left_df, right_df, how, op, lsuffix, rsuffix)\u001b[0m\n\u001b[0;32m     69\u001b[0m     \u001b[0mtree_idx\u001b[0m \u001b[1;33m=\u001b[0m \u001b[0mrtree\u001b[0m\u001b[1;33m.\u001b[0m\u001b[0mindex\u001b[0m\u001b[1;33m.\u001b[0m\u001b[0mIndex\u001b[0m\u001b[1;33m(\u001b[0m\u001b[0mstream\u001b[0m\u001b[1;33m)\u001b[0m\u001b[1;33m\u001b[0m\u001b[0m\n\u001b[0;32m     70\u001b[0m \u001b[1;33m\u001b[0m\u001b[0m\n\u001b[1;32m---> 71\u001b[1;33m     idxmatch = (left_df.geometry.apply(lambda x: x.bounds)\n\u001b[0m\u001b[0;32m     72\u001b[0m                 .apply(lambda x: list(tree_idx.intersection(x))))\n\u001b[0;32m     73\u001b[0m     \u001b[0midxmatch\u001b[0m \u001b[1;33m=\u001b[0m \u001b[0midxmatch\u001b[0m\u001b[1;33m[\u001b[0m\u001b[0midxmatch\u001b[0m\u001b[1;33m.\u001b[0m\u001b[0mapply\u001b[0m\u001b[1;33m(\u001b[0m\u001b[0mlen\u001b[0m\u001b[1;33m)\u001b[0m \u001b[1;33m>\u001b[0m \u001b[1;36m0\u001b[0m\u001b[1;33m]\u001b[0m\u001b[1;33m\u001b[0m\u001b[0m\n",
      "\u001b[1;32mC:\\ProgramData\\Anaconda3\\lib\\site-packages\\pandas\\core\\series.py\u001b[0m in \u001b[0;36mapply\u001b[1;34m(self, func, convert_dtype, args, **kwds)\u001b[0m\n\u001b[0;32m   2353\u001b[0m             \u001b[1;32melse\u001b[0m\u001b[1;33m:\u001b[0m\u001b[1;33m\u001b[0m\u001b[0m\n\u001b[0;32m   2354\u001b[0m                 \u001b[0mvalues\u001b[0m \u001b[1;33m=\u001b[0m \u001b[0mself\u001b[0m\u001b[1;33m.\u001b[0m\u001b[0masobject\u001b[0m\u001b[1;33m\u001b[0m\u001b[0m\n\u001b[1;32m-> 2355\u001b[1;33m                 \u001b[0mmapped\u001b[0m \u001b[1;33m=\u001b[0m \u001b[0mlib\u001b[0m\u001b[1;33m.\u001b[0m\u001b[0mmap_infer\u001b[0m\u001b[1;33m(\u001b[0m\u001b[0mvalues\u001b[0m\u001b[1;33m,\u001b[0m \u001b[0mf\u001b[0m\u001b[1;33m,\u001b[0m \u001b[0mconvert\u001b[0m\u001b[1;33m=\u001b[0m\u001b[0mconvert_dtype\u001b[0m\u001b[1;33m)\u001b[0m\u001b[1;33m\u001b[0m\u001b[0m\n\u001b[0m\u001b[0;32m   2356\u001b[0m \u001b[1;33m\u001b[0m\u001b[0m\n\u001b[0;32m   2357\u001b[0m         \u001b[1;32mif\u001b[0m \u001b[0mlen\u001b[0m\u001b[1;33m(\u001b[0m\u001b[0mmapped\u001b[0m\u001b[1;33m)\u001b[0m \u001b[1;32mand\u001b[0m \u001b[0misinstance\u001b[0m\u001b[1;33m(\u001b[0m\u001b[0mmapped\u001b[0m\u001b[1;33m[\u001b[0m\u001b[1;36m0\u001b[0m\u001b[1;33m]\u001b[0m\u001b[1;33m,\u001b[0m \u001b[0mSeries\u001b[0m\u001b[1;33m)\u001b[0m\u001b[1;33m:\u001b[0m\u001b[1;33m\u001b[0m\u001b[0m\n",
      "\u001b[1;32mpandas\\_libs\\src\\inference.pyx\u001b[0m in \u001b[0;36mpandas._libs.lib.map_infer (pandas\\_libs\\lib.c:66645)\u001b[1;34m()\u001b[0m\n",
      "\u001b[1;32mC:\\ProgramData\\Anaconda3\\lib\\site-packages\\geopandas\\tools\\sjoin.py\u001b[0m in \u001b[0;36m<lambda>\u001b[1;34m(x)\u001b[0m\n\u001b[0;32m     69\u001b[0m     \u001b[0mtree_idx\u001b[0m \u001b[1;33m=\u001b[0m \u001b[0mrtree\u001b[0m\u001b[1;33m.\u001b[0m\u001b[0mindex\u001b[0m\u001b[1;33m.\u001b[0m\u001b[0mIndex\u001b[0m\u001b[1;33m(\u001b[0m\u001b[0mstream\u001b[0m\u001b[1;33m)\u001b[0m\u001b[1;33m\u001b[0m\u001b[0m\n\u001b[0;32m     70\u001b[0m \u001b[1;33m\u001b[0m\u001b[0m\n\u001b[1;32m---> 71\u001b[1;33m     idxmatch = (left_df.geometry.apply(lambda x: x.bounds)\n\u001b[0m\u001b[0;32m     72\u001b[0m                 .apply(lambda x: list(tree_idx.intersection(x))))\n\u001b[0;32m     73\u001b[0m     \u001b[0midxmatch\u001b[0m \u001b[1;33m=\u001b[0m \u001b[0midxmatch\u001b[0m\u001b[1;33m[\u001b[0m\u001b[0midxmatch\u001b[0m\u001b[1;33m.\u001b[0m\u001b[0mapply\u001b[0m\u001b[1;33m(\u001b[0m\u001b[0mlen\u001b[0m\u001b[1;33m)\u001b[0m \u001b[1;33m>\u001b[0m \u001b[1;36m0\u001b[0m\u001b[1;33m]\u001b[0m\u001b[1;33m\u001b[0m\u001b[0m\n",
      "\u001b[1;31mAttributeError\u001b[0m: 'str' object has no attribute 'bounds'"
     ]
    }
   ],
   "source": [
    "calls_and_regions = gpd.sjoin(calls, regions, op=\"within\")"
   ]
  },
  {
   "cell_type": "code",
   "execution_count": null,
   "metadata": {},
   "outputs": [],
   "source": [
    "shp.info()"
   ]
  },
  {
   "cell_type": "markdown",
   "metadata": {},
   "source": [
    "<code>from shapely.geometry import Point\n",
    "from shapely.geometry.polygon import Polygon\n",
    "\n",
    "lons_lats_vect = np.column_stack((lons_vect, lats_vect)) # Reshape coordinates\n",
    "polygon = Polygon(lons_lats_vect) # create polygon\n",
    "point = Point(y,x) # create point\n",
    "print(polygon.contains(point)) # check if polygon contains point</code>"
   ]
  }
 ],
 "metadata": {
  "kernelspec": {
   "display_name": "Python 3",
   "language": "python",
   "name": "python3"
  },
  "language_info": {
   "codemirror_mode": {
    "name": "ipython",
    "version": 3
   },
   "file_extension": ".py",
   "mimetype": "text/x-python",
   "name": "python",
   "nbconvert_exporter": "python",
   "pygments_lexer": "ipython3",
   "version": "3.6.3"
  }
 },
 "nbformat": 4,
 "nbformat_minor": 2
}
